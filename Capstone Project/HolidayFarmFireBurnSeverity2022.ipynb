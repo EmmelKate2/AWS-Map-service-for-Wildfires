{
 "cells": [
  {
   "cell_type": "markdown",
   "id": "a13751b3",
   "metadata": {},
   "source": [
    "# Holiday Farm Fire Burn Severity\n",
    "\n",
    "###### Kate Emmel\n",
    "\n",
    "This project is based off of https://github.com/Esri/arcgis-python-api/blob/master/samples/04_gis_analysts_data_scientists/calculate_post_fire_landslide_risk.ipynb. I will be looking at a different fire with this code. This project will look at landsat imagery from before and after the Holiday Farm Fire of 2020. This fire began on September 7th, 2020 and lasted until October 29th of 2020. It severly affected multiple communities and is one of the largest burning fires in Oregon's recorded history. It burned about 170,000 acres. "
   ]
  },
  {
   "cell_type": "code",
   "execution_count": 1,
   "id": "52437a43",
   "metadata": {},
   "outputs": [],
   "source": [
    "import arcgis\n",
    "from arcgis.gis import GIS\n",
    "from arcgis.raster.functions import *\n",
    "from ipywidgets import *\n",
    "\n",
    "import arcpy\n",
    "from arcpy.ia import *\n",
    "from arcpy import env\n",
    "from arcpy.sa import *\n",
    "#Usually, you do not want to import * but define the specific function you will use. \n",
    "\n",
    "import matplotlib.pyplot as plt\n"
   ]
  },
  {
   "cell_type": "markdown",
   "id": "7720faca",
   "metadata": {},
   "source": [
    "### Getting Data\n",
    "\n",
    "I found data from before the fire, taken on August 23rd, 2020 from USGS Earth explorer data base. https://earthexplorer.usgs.gov/"
   ]
  },
  {
   "cell_type": "markdown",
   "id": "d798d761",
   "metadata": {},
   "source": [
    "I then found a landsat imagery taken October 26th 2020, just a few days before the fire was officially put out. I chose this data because it was relatively free of smoke and clouds.\n",
    "These are both Landsat 8. \n",
    "\n",
    "I will also need a DEM (digital elevation model) and a NLCD (National Land cover Dataset which will show land use and vegetationn type. I have sourced these from ESRI's GIS content."
   ]
  },
  {
   "cell_type": "code",
   "execution_count": 2,
   "id": "a364788c",
   "metadata": {},
   "outputs": [],
   "source": [
    "bl8band2 = r'C:\\Users\\emmel\\Desktop\\Notebooks\\AWS Mapping\\HolidayFarmFire\\HHFire Data\\Raster Data\\LC08_L2SP_046029_20200823_20200905_02_T1_SR_B2.tif'\n",
    "bl8band3 = r'C:\\Users\\emmel\\Desktop\\Notebooks\\AWS Mapping\\HolidayFarmFire\\HHFire Data\\Raster Data\\LC08_L2SP_046029_20200823_20200905_02_T1_SR_B3.tif'\n",
    "bl8band2raster = plt.imread(bl8band2)\n",
    "bl8band3raster = plt.imread(bl8band3)"
   ]
  },
  {
   "cell_type": "code",
   "execution_count": 3,
   "id": "c036de17",
   "metadata": {},
   "outputs": [],
   "source": [
    "al8band2 = r'C:\\Users\\emmel\\Desktop\\Notebooks\\AWS Mapping\\HolidayFarmFire\\HHFire Data\\Raster Data\\LC08_L2SP_046029_20201026_20201106_02_T1_SR_B2.tif'\n",
    "al8band3 = r'C:\\Users\\emmel\\Desktop\\Notebooks\\AWS Mapping\\HolidayFarmFire\\HHFire Data\\Raster Data\\LC08_L2SP_046029_20201026_20201106_02_T1_SR_B3.tif'\n",
    "al8band2raster = plt.imread(al8band2)\n",
    "al8band3raster = plt.imread(al8band3)"
   ]
  },
  {
   "cell_type": "code",
   "execution_count": 4,
   "id": "f94af624",
   "metadata": {},
   "outputs": [
    {
     "data": {
      "text/plain": [
       "array([[0, 0, 0, ..., 0, 0, 0],\n",
       "       [0, 0, 0, ..., 0, 0, 0],\n",
       "       [0, 0, 0, ..., 0, 0, 0],\n",
       "       ...,\n",
       "       [0, 0, 0, ..., 0, 0, 0],\n",
       "       [0, 0, 0, ..., 0, 0, 0],\n",
       "       [0, 0, 0, ..., 0, 0, 0]], dtype=uint16)"
      ]
     },
     "execution_count": 4,
     "metadata": {},
     "output_type": "execute_result"
    }
   ],
   "source": [
    "bl8band5 = r'C:\\Users\\emmel\\Desktop\\Notebooks\\AWS Mapping\\HolidayFarmFire\\HHFire Data\\Raster Data\\LC08_L2SP_046029_20200823_20200905_02_T1_SR_B5.tif'\n",
    "bl8band5raster = plt.imread(bl8band5)\n",
    "bl8band7 = r'C:\\Users\\emmel\\Desktop\\Notebooks\\AWS Mapping\\HolidayFarmFire\\HHFire Data\\Raster Data\\LC08_L2SP_046029_20200823_20200905_02_T1_SR_B7.tif'\n",
    "bl8band7raster = plt.imread(bl8band7)\n",
    "bl8band5raster"
   ]
  },
  {
   "cell_type": "code",
   "execution_count": 5,
   "id": "d80ee53f",
   "metadata": {},
   "outputs": [
    {
     "data": {
      "text/plain": [
       "array([[0, 0, 0, ..., 0, 0, 0],\n",
       "       [0, 0, 0, ..., 0, 0, 0],\n",
       "       [0, 0, 0, ..., 0, 0, 0],\n",
       "       ...,\n",
       "       [0, 0, 0, ..., 0, 0, 0],\n",
       "       [0, 0, 0, ..., 0, 0, 0],\n",
       "       [0, 0, 0, ..., 0, 0, 0]], dtype=uint16)"
      ]
     },
     "execution_count": 5,
     "metadata": {},
     "output_type": "execute_result"
    }
   ],
   "source": [
    "bl8band7raster"
   ]
  },
  {
   "cell_type": "code",
   "execution_count": 6,
   "id": "a9c3e339",
   "metadata": {},
   "outputs": [
    {
     "data": {
      "text/plain": [
       "array([[0, 0, 0, ..., 0, 0, 0],\n",
       "       [0, 0, 0, ..., 0, 0, 0],\n",
       "       [0, 0, 0, ..., 0, 0, 0],\n",
       "       ...,\n",
       "       [0, 0, 0, ..., 0, 0, 0],\n",
       "       [0, 0, 0, ..., 0, 0, 0],\n",
       "       [0, 0, 0, ..., 0, 0, 0]], dtype=uint16)"
      ]
     },
     "execution_count": 6,
     "metadata": {},
     "output_type": "execute_result"
    }
   ],
   "source": [
    "al8band5 = r'C:\\Users\\emmel\\Desktop\\Notebooks\\AWS Mapping\\HolidayFarmFire\\HHFire Data\\Raster Data\\LC08_L2SP_046029_20201026_20201106_02_T1_SR_B5.tif'\n",
    "al8band7 = r'C:\\Users\\emmel\\Desktop\\Notebooks\\AWS Mapping\\HolidayFarmFire\\HHFire Data\\Raster Data\\LC08_L2SP_046029_20201026_20201106_02_T1_SR_B7.tif'\n",
    "al8band5raster = plt.imread(al8band5)\n",
    "al8band7raster = plt.imread(al8band7)\n",
    "al8band5raster"
   ]
  },
  {
   "cell_type": "code",
   "execution_count": 7,
   "id": "1e738b6f",
   "metadata": {},
   "outputs": [
    {
     "data": {
      "text/plain": [
       "array([[0, 0, 0, ..., 0, 0, 0],\n",
       "       [0, 0, 0, ..., 0, 0, 0],\n",
       "       [0, 0, 0, ..., 0, 0, 0],\n",
       "       ...,\n",
       "       [0, 0, 0, ..., 0, 0, 0],\n",
       "       [0, 0, 0, ..., 0, 0, 0],\n",
       "       [0, 0, 0, ..., 0, 0, 0]], dtype=uint16)"
      ]
     },
     "execution_count": 7,
     "metadata": {},
     "output_type": "execute_result"
    }
   ],
   "source": [
    "al8band7raster"
   ]
  },
  {
   "cell_type": "code",
   "execution_count": 8,
   "id": "1ed4f094",
   "metadata": {},
   "outputs": [
    {
     "data": {
      "text/plain": [
       "True"
      ]
     },
     "execution_count": 8,
     "metadata": {},
     "output_type": "execute_result"
    }
   ],
   "source": [
    "gis = GIS('https://pythonapi.playground.esri.com/portal', 'arcgis_python', 'amazing_arcgis_123')\n",
    "arcgis.raster.analytics.is_supported(gis)"
   ]
  },
  {
   "cell_type": "code",
   "execution_count": 9,
   "id": "c80f7960",
   "metadata": {},
   "outputs": [],
   "source": [
    "dem = gis.content.search('title:Sonoma_DEM owner:api_data_owner',\n",
    "                         item_type = \"Image Service\",\n",
    "                         outside_org=True)[0].layers[0]\n",
    "nlcd = gis.content.search('title:Sonoma_NLCD2011 owner:api_data_owner',\n",
    "                          item_type = \"Image Service\",\n",
    "                          outside_org=True)[0].layers[0]\n",
    "basins = gis.content.search('title:Sonoma_Basins owner:api_data_owner',\n",
    "                            item_type = \"Image Service\",\n",
    "                            outside_org=True)[0].layers[0]"
   ]
  },
  {
   "cell_type": "markdown",
   "id": "9e448432",
   "metadata": {},
   "source": [
    "## Create a burn severity map\n",
    "To compare the burn scars on the before and after Landsat imagery, we’ll choose the multispectral bands 5,3,2 to be displayed. The [5,3,2] band combination improves visibility of fire and burn scars. Healthy vegetation is shown in bright red, while stressed vegetation is displayed as dull red. Nonvegetated features such as bare and urban areas are displayed in various shades of gray and blue.\n",
    "\n",
    "Below, we apply the same bands combination to the before_l8 and after_l8 layers.\n"
   ]
  },
  {
   "cell_type": "code",
   "execution_count": 11,
   "id": "27730c66",
   "metadata": {},
   "outputs": [],
   "source": [
    "infrared_before = (bl8band5 + bl8band3 + bl8band2)\n",
    "infrared_after = (al8band5 + al8band3 + al8band2)"
   ]
  },
  {
   "cell_type": "code",
   "execution_count": 12,
   "id": "9cafb6e5",
   "metadata": {},
   "outputs": [
    {
     "data": {
      "text/plain": [
       "'C:\\\\Users\\\\emmel\\\\Desktop\\\\Notebooks\\\\AWS Mapping\\\\HolidayFarmFire\\\\HHFire Data\\\\Raster Data\\\\LC08_L2SP_046029_20200823_20200905_02_T1_SR_B5.tifC:\\\\Users\\\\emmel\\\\Desktop\\\\Notebooks\\\\AWS Mapping\\\\HolidayFarmFire\\\\HHFire Data\\\\Raster Data\\\\LC08_L2SP_046029_20200823_20200905_02_T1_SR_B3.tifC:\\\\Users\\\\emmel\\\\Desktop\\\\Notebooks\\\\AWS Mapping\\\\HolidayFarmFire\\\\HHFire Data\\\\Raster Data\\\\LC08_L2SP_046029_20200823_20200905_02_T1_SR_B2.tif'"
      ]
     },
     "execution_count": 12,
     "metadata": {},
     "output_type": "execute_result"
    }
   ],
   "source": [
    "infrared_before"
   ]
  },
  {
   "cell_type": "code",
   "execution_count": 13,
   "id": "bc507689",
   "metadata": {},
   "outputs": [
    {
     "data": {
      "text/plain": [
       "'C:\\\\Users\\\\emmel\\\\Desktop\\\\Notebooks\\\\AWS Mapping\\\\HolidayFarmFire\\\\HHFire Data\\\\Raster Data\\\\LC08_L2SP_046029_20201026_20201106_02_T1_SR_B5.tifC:\\\\Users\\\\emmel\\\\Desktop\\\\Notebooks\\\\AWS Mapping\\\\HolidayFarmFire\\\\HHFire Data\\\\Raster Data\\\\LC08_L2SP_046029_20201026_20201106_02_T1_SR_B3.tifC:\\\\Users\\\\emmel\\\\Desktop\\\\Notebooks\\\\AWS Mapping\\\\HolidayFarmFire\\\\HHFire Data\\\\Raster Data\\\\LC08_L2SP_046029_20201026_20201106_02_T1_SR_B2.tif'"
      ]
     },
     "execution_count": 13,
     "metadata": {},
     "output_type": "execute_result"
    }
   ],
   "source": [
    "infrared_after"
   ]
  },
  {
   "cell_type": "code",
   "execution_count": 14,
   "id": "ad24e8ab",
   "metadata": {},
   "outputs": [],
   "source": [
    "#trying to look at full tif of all bands\n",
    "#after_fire = r'C:\\Users\\emmel\\Desktop\\Notebooks\\AWS Mapping\\HolidayFarmFire\\HHFire Data\\PostFireTotal.tif'\n",
    "#before_fire = r'C:\\Users\\emmel\\Desktop\\Notebooks\\AWS Mapping\\HolidayFarmFire\\HHFire Data\\PreFireTotal.TIF'\n",
    "#bl8 = plt.imread(before_fire)\n",
    "#bl8"
   ]
  },
  {
   "cell_type": "markdown",
   "id": "c5027003",
   "metadata": {},
   "source": [
    "## Quantitative Assessment\n",
    "A Normalized Burn Ratio (NBR) can be used to delineate the burned areas and identify the severity of the fire. The formula for NBR is very similar to that of NDVI except that it uses near-infrared band 5 and the short-wave infrared band 7:\n",
    "\n",
    "NBR = (b5 - B7) / (B5 + B7)\n",
    "\n",
    "The NBR equation was designed to be calculated from reflectance, but it can be calculated from radiance and digital_number (dn) with changes to the burn severity (discussed in the table below). For a given area, an NBR is calculated from an image just prior to the burn and a second NBR is calculated for an image immediately following the burn. Burn extent and severity is evaluated by taking the difference between these two index layers:\n",
    "\n",
    "NBR = NBR(prefire) - NBR(posttfire)\n",
    "\n",
    "The meaning of the ∆NBR values can vary by scene, and interpretation in specific instances should always be based on some field assessment. However, the following table from the USGS FireMon program can be useful as a first approximation for interpreting the NBR difference:\n",
    "\n",
    "-2.0 to 0.1 = Regrowth and unburned 0.1 to 0.27 = Low severity burn 0.27 to 0.44 = medium severity burn 0.44 to 0.66 = moderate severity burn '> 0.66 = High severity burn\n",
    "\n",
    "Source: http://wiki.landscapetoolbox.org/doku.php/remote_sensing_methods:normalized_burn_ratio"
   ]
  },
  {
   "cell_type": "code",
   "execution_count": 15,
   "id": "da3050cd",
   "metadata": {},
   "outputs": [
    {
     "name": "stderr",
     "output_type": "stream",
     "text": [
      "C:\\Users\\emmel\\AppData\\Local\\ESRI\\conda\\envs\\arcgispro-py3-clone\\lib\\site-packages\\ipykernel_launcher.py:1: RuntimeWarning: invalid value encountered in true_divide\n",
      "  \"\"\"Entry point for launching an IPython kernel.\n"
     ]
    },
    {
     "data": {
      "text/plain": [
       "array([[nan, nan, nan, ..., nan, nan, nan],\n",
       "       [nan, nan, nan, ..., nan, nan, nan],\n",
       "       [nan, nan, nan, ..., nan, nan, nan],\n",
       "       ...,\n",
       "       [nan, nan, nan, ..., nan, nan, nan],\n",
       "       [nan, nan, nan, ..., nan, nan, nan],\n",
       "       [nan, nan, nan, ..., nan, nan, nan]])"
      ]
     },
     "execution_count": 15,
     "metadata": {},
     "output_type": "execute_result"
    }
   ],
   "source": [
    "hh_prefire  = ((bl8band5raster - bl8band7raster)/(bl8band5raster + bl8band7raster))\n",
    "hh_prefire"
   ]
  },
  {
   "cell_type": "code",
   "execution_count": 16,
   "id": "72756d48",
   "metadata": {},
   "outputs": [
    {
     "name": "stderr",
     "output_type": "stream",
     "text": [
      "C:\\Users\\emmel\\AppData\\Local\\ESRI\\conda\\envs\\arcgispro-py3-clone\\lib\\site-packages\\ipykernel_launcher.py:1: RuntimeWarning: invalid value encountered in true_divide\n",
      "  \"\"\"Entry point for launching an IPython kernel.\n"
     ]
    },
    {
     "data": {
      "text/plain": [
       "array([[nan, nan, nan, ..., nan, nan, nan],\n",
       "       [nan, nan, nan, ..., nan, nan, nan],\n",
       "       [nan, nan, nan, ..., nan, nan, nan],\n",
       "       ...,\n",
       "       [nan, nan, nan, ..., nan, nan, nan],\n",
       "       [nan, nan, nan, ..., nan, nan, nan],\n",
       "       [nan, nan, nan, ..., nan, nan, nan]])"
      ]
     },
     "execution_count": 16,
     "metadata": {},
     "output_type": "execute_result"
    }
   ],
   "source": [
    "hh_postfire  = ((al8band5raster - al8band7raster)/(al8band5raster + al8band7raster))\n",
    "hh_postfire"
   ]
  },
  {
   "cell_type": "code",
   "execution_count": null,
   "id": "76b6e1d1",
   "metadata": {},
   "outputs": [],
   "source": []
  }
 ],
 "metadata": {
  "kernelspec": {
   "display_name": "Python 3",
   "language": "python",
   "name": "python3"
  },
  "language_info": {
   "codemirror_mode": {
    "name": "ipython",
    "version": 3
   },
   "file_extension": ".py",
   "mimetype": "text/x-python",
   "name": "python",
   "nbconvert_exporter": "python",
   "pygments_lexer": "ipython3",
   "version": "3.7.11"
  }
 },
 "nbformat": 4,
 "nbformat_minor": 5
}
