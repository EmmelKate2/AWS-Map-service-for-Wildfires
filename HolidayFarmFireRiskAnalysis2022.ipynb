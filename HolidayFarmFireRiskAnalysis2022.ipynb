{
 "cells": [
  {
   "cell_type": "markdown",
   "id": "5f00fd37",
   "metadata": {},
   "source": [
    "# Holiday Farm Fire Risk Analysis\n",
    "\n",
    "###### Kate Emmel\n",
    "\n",
    "This project is based off of https://github.com/Esri/arcgis-python-api/blob/master/samples/04_gis_analysts_data_scientists/calculate_post_fire_landslide_risk.ipynb for learning purposes. This project will look at landsat imagery from before and after the Holiday Farm Fire of 2020. This fire began on September 7th, 2020 and lasted until October 29th of 2020. It severly affected multiple communities and is one of the largest burning fires in Oregon's recorded history. It burned about 170,000 acres. "
   ]
  },
  {
   "cell_type": "code",
   "execution_count": 1,
   "id": "0a65f1d9",
   "metadata": {},
   "outputs": [],
   "source": [
    "import arcgis\n",
    "from arcgis.gis import GIS\n",
    "from arcgis.raster.functions import *\n",
    "from ipywidgets import *\n",
    "\n",
    "import arcpy\n",
    "from arcpy.ia import *\n",
    "from arcpy import env\n",
    "from arcpy.sa import *\n",
    "#Usually, you do not want to import * but define the specific function you will use. \n",
    "\n",
    "import matplotlib.pyplot as plt\n"
   ]
  },
  {
   "cell_type": "markdown",
   "id": "54003878",
   "metadata": {},
   "source": [
    "### Getting Data\n",
    "\n",
    "I found data from before the fire, taken on September 1st, 2020 from USGS Earth explorer data base. https://earthexplorer.usgs.gov/"
   ]
  },
  {
   "cell_type": "markdown",
   "id": "c631390e",
   "metadata": {},
   "source": [
    "I then found a landsat imagery taken October 26th 2020, just a few days before the fire was officially put out. I chose this data because it was relatively free of smoke and clouds.\n",
    "These are both Landsat 8. \n",
    "\n",
    "I will also need a DEM (digital elevation model) and a NLCD (National Land cover Dataset which will show land use and vegetationn type. "
   ]
  },
  {
   "cell_type": "code",
   "execution_count": 3,
   "id": "ce0aaba4",
   "metadata": {},
   "outputs": [],
   "source": [
    "before_fire = r'C:\\Users\\emmel\\Desktop\\Notebooks\\AWS Mapping\\HolidayFarmFire\\HHFire Data\\Fire_09072020_1.TIF'"
   ]
  },
  {
   "cell_type": "code",
   "execution_count": 4,
   "id": "000fcd31",
   "metadata": {},
   "outputs": [],
   "source": [
    "bl8 = plt.imread(before_fire)"
   ]
  },
  {
   "cell_type": "code",
   "execution_count": 5,
   "id": "57dd560e",
   "metadata": {},
   "outputs": [
    {
     "data": {
      "text/plain": [
       "array([[0, 0, 0, ..., 0, 0, 0],\n",
       "       [0, 0, 0, ..., 0, 0, 0],\n",
       "       [0, 0, 0, ..., 0, 0, 0],\n",
       "       ...,\n",
       "       [0, 0, 0, ..., 0, 0, 0],\n",
       "       [0, 0, 0, ..., 0, 0, 0],\n",
       "       [0, 0, 0, ..., 0, 0, 0]], dtype=uint16)"
      ]
     },
     "execution_count": 5,
     "metadata": {},
     "output_type": "execute_result"
    }
   ],
   "source": [
    "bl8"
   ]
  },
  {
   "cell_type": "code",
   "execution_count": 8,
   "id": "42369fec",
   "metadata": {},
   "outputs": [],
   "source": [
    "after_fire = r'C:\\Users\\emmel\\Desktop\\Notebooks\\AWS Mapping\\HolidayFarmFire\\HHFire Data\\Fire_10262020_1.TIF'"
   ]
  },
  {
   "cell_type": "code",
   "execution_count": 9,
   "id": "4e5e40c0",
   "metadata": {},
   "outputs": [],
   "source": [
    "al8 = plt.imread(after_fire)"
   ]
  },
  {
   "cell_type": "code",
   "execution_count": 10,
   "id": "dc2665a0",
   "metadata": {},
   "outputs": [
    {
     "data": {
      "text/plain": [
       "array([[0, 0, 0, ..., 0, 0, 0],\n",
       "       [0, 0, 0, ..., 0, 0, 0],\n",
       "       [0, 0, 0, ..., 0, 0, 0],\n",
       "       ...,\n",
       "       [0, 0, 0, ..., 0, 0, 0],\n",
       "       [0, 0, 0, ..., 0, 0, 0],\n",
       "       [0, 0, 0, ..., 0, 0, 0]], dtype=uint16)"
      ]
     },
     "execution_count": 10,
     "metadata": {},
     "output_type": "execute_result"
    }
   ],
   "source": [
    "al8"
   ]
  },
  {
   "cell_type": "code",
   "execution_count": 12,
   "id": "06ed5153",
   "metadata": {},
   "outputs": [
    {
     "ename": "AttributeError",
     "evalue": "'NoneType' object has no attribute '_datastore_raster'",
     "output_type": "error",
     "traceback": [
      "\u001b[1;31m---------------------------------------------------------------------------\u001b[0m",
      "\u001b[1;31mAttributeError\u001b[0m                            Traceback (most recent call last)",
      "\u001b[1;32m<ipython-input-12-cb2dbc38285a>\u001b[0m in \u001b[0;36m<module>\u001b[1;34m\u001b[0m\n\u001b[0;32m      1\u001b[0m \u001b[1;31m# Calculate before/after NBR indices and their difference\u001b[0m\u001b[1;33m\u001b[0m\u001b[1;33m\u001b[0m\u001b[1;33m\u001b[0m\u001b[0m\n\u001b[0;32m      2\u001b[0m nbr_prefire  = band_arithmetic(bl8,\n\u001b[1;32m----> 3\u001b[1;33m                                band_indexes = \"(b5 - b7) / (b5 + b7)\")\n\u001b[0m\u001b[0;32m      4\u001b[0m nbr_postfire = band_arithmetic(al8,\n\u001b[0;32m      5\u001b[0m                                band_indexes = \"(b5 - b7) / (b5 + b7)\")\n",
      "\u001b[1;32m~\\AppData\\Local\\ESRI\\conda\\envs\\arcgispro-py3-clone\\lib\\site-packages\\arcgis\\raster\\functions\\__init__.py\u001b[0m in \u001b[0;36mband_arithmetic\u001b[1;34m(raster, band_indexes, astype, method)\u001b[0m\n\u001b[0;32m    886\u001b[0m         \u001b[0mtemplate_dict\u001b[0m\u001b[1;33m[\u001b[0m\u001b[1;34m\"outputPixelType\"\u001b[0m\u001b[1;33m]\u001b[0m \u001b[1;33m=\u001b[0m \u001b[0mastype\u001b[0m\u001b[1;33m.\u001b[0m\u001b[0mupper\u001b[0m\u001b[1;33m(\u001b[0m\u001b[1;33m)\u001b[0m\u001b[1;33m\u001b[0m\u001b[1;33m\u001b[0m\u001b[0m\n\u001b[0;32m    887\u001b[0m \u001b[1;33m\u001b[0m\u001b[0m\n\u001b[1;32m--> 888\u001b[1;33m     \u001b[1;32mreturn\u001b[0m \u001b[0m_clone_layer\u001b[0m\u001b[1;33m(\u001b[0m\u001b[0mlayer\u001b[0m\u001b[1;33m,\u001b[0m \u001b[0mtemplate_dict\u001b[0m\u001b[1;33m,\u001b[0m \u001b[0mraster_ra\u001b[0m\u001b[1;33m)\u001b[0m\u001b[1;33m\u001b[0m\u001b[1;33m\u001b[0m\u001b[0m\n\u001b[0m\u001b[0;32m    889\u001b[0m \u001b[1;33m\u001b[0m\u001b[0m\n\u001b[0;32m    890\u001b[0m \u001b[1;33m\u001b[0m\u001b[0m\n",
      "\u001b[1;32m~\\AppData\\Local\\ESRI\\conda\\envs\\arcgispro-py3-clone\\lib\\site-packages\\arcgis\\raster\\functions\\__init__.py\u001b[0m in \u001b[0;36m_clone_layer\u001b[1;34m(layer, function_chain, raster_ra, raster_ra2, variable_name)\u001b[0m\n\u001b[0;32m     90\u001b[0m     \u001b[1;32mif\u001b[0m \u001b[0mraster_ra2\u001b[0m \u001b[1;32mis\u001b[0m \u001b[1;32mnot\u001b[0m \u001b[1;32mNone\u001b[0m\u001b[1;33m:\u001b[0m\u001b[1;33m\u001b[0m\u001b[1;33m\u001b[0m\u001b[0m\n\u001b[0;32m     91\u001b[0m         \u001b[0mfunction_chain_ra\u001b[0m\u001b[1;33m[\u001b[0m\u001b[1;34m\"rasterFunctionArguments\"\u001b[0m\u001b[1;33m]\u001b[0m\u001b[1;33m[\u001b[0m\u001b[1;34m\"Raster2\"\u001b[0m\u001b[1;33m]\u001b[0m \u001b[1;33m=\u001b[0m \u001b[0mraster_ra2\u001b[0m\u001b[1;33m\u001b[0m\u001b[1;33m\u001b[0m\u001b[0m\n\u001b[1;32m---> 92\u001b[1;33m     \u001b[1;32mif\u001b[0m \u001b[0mlayer\u001b[0m\u001b[1;33m.\u001b[0m\u001b[0m_datastore_raster\u001b[0m\u001b[1;33m:\u001b[0m\u001b[1;33m\u001b[0m\u001b[1;33m\u001b[0m\u001b[0m\n\u001b[0m\u001b[0;32m     93\u001b[0m         \u001b[1;32mif\u001b[0m \u001b[0misinstance\u001b[0m\u001b[1;33m(\u001b[0m\u001b[0mlayer\u001b[0m\u001b[1;33m.\u001b[0m\u001b[0m_uri\u001b[0m\u001b[1;33m,\u001b[0m \u001b[0mdict\u001b[0m\u001b[1;33m)\u001b[0m \u001b[1;32mor\u001b[0m \u001b[0misinstance\u001b[0m\u001b[1;33m(\u001b[0m\u001b[0mlayer\u001b[0m\u001b[1;33m.\u001b[0m\u001b[0m_uri\u001b[0m\u001b[1;33m,\u001b[0m \u001b[0mbytes\u001b[0m\u001b[1;33m)\u001b[0m\u001b[1;33m:\u001b[0m\u001b[1;33m\u001b[0m\u001b[1;33m\u001b[0m\u001b[0m\n\u001b[0;32m     94\u001b[0m             \u001b[0mnewlyr\u001b[0m \u001b[1;33m=\u001b[0m \u001b[0mImageryLayer\u001b[0m\u001b[1;33m(\u001b[0m\u001b[0mfunction_chain_ra\u001b[0m\u001b[1;33m,\u001b[0m \u001b[0mlayer\u001b[0m\u001b[1;33m.\u001b[0m\u001b[0m_gis\u001b[0m\u001b[1;33m)\u001b[0m\u001b[1;33m\u001b[0m\u001b[1;33m\u001b[0m\u001b[0m\n",
      "\u001b[1;31mAttributeError\u001b[0m: 'NoneType' object has no attribute '_datastore_raster'"
     ]
    }
   ],
   "source": [
    "# Calculate before/after NBR indices and their difference\n",
    "nbr_prefire  = band_arithmetic(bl8,\n",
    "                               band_indexes = \"(b5 - b7) / (b5 + b7)\")\n",
    "nbr_postfire = band_arithmetic(al8,\n",
    "                               band_indexes = \"(b5 - b7) / (b5 + b7)\")"
   ]
  },
  {
   "cell_type": "code",
   "execution_count": null,
   "id": "97d47f88",
   "metadata": {},
   "outputs": [],
   "source": []
  }
 ],
 "metadata": {
  "kernelspec": {
   "display_name": "Python 3",
   "language": "python",
   "name": "python3"
  },
  "language_info": {
   "codemirror_mode": {
    "name": "ipython",
    "version": 3
   },
   "file_extension": ".py",
   "mimetype": "text/x-python",
   "name": "python",
   "nbconvert_exporter": "python",
   "pygments_lexer": "ipython3",
   "version": "3.7.11"
  }
 },
 "nbformat": 4,
 "nbformat_minor": 5
}
